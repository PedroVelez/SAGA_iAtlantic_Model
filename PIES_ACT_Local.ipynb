{
 "cells": [
  {
   "cell_type": "markdown",
   "metadata": {},
   "source": [
    "## Computing transport in a section"
   ]
  },
  {
   "cell_type": "code",
   "execution_count": 163,
   "metadata": {},
   "outputs": [],
   "source": [
    "import numpy as np\n",
    "import xarray as xr\n",
    "from matplotlib import colors as c\n",
    "from matplotlib import pyplot as plt\n",
    "from pathlib import Path\n",
    "from functools import reduce\n",
    "%matplotlib inline"
   ]
  },
  {
   "cell_type": "code",
   "execution_count": 164,
   "metadata": {},
   "outputs": [],
   "source": [
    "plt.rcParams['figure.figsize'] = [20, 7]\n",
    "plt.rcParams.update({'font.size': 17})\n",
    "\n",
    "global_data_path = Path(\"./GeomarData\")\n",
    "experiment_id = \"INALT20.L46-KFS044\"\n",
    "nest_prefix = \"1_\"  # leave empty if global data will be used\n",
    "code_area = \"_9W_35S10S\"\n",
    "time_average = \"5d\""
   ]
  },
  {
   "cell_type": "code",
   "execution_count": 165,
   "metadata": {},
   "outputs": [],
   "source": [
    "# chunk sizes\n",
    "chu_x = 21\n",
    "chu_y = 551\n",
    "chu_z = 46\n",
    "chu_t = 1"
   ]
  },
  {
   "cell_type": "markdown",
   "metadata": {},
   "source": [
    "## Start Dask client\n",
    "\n",
    "We want to be able to control the resources used for parallel computations."
   ]
  },
  {
   "cell_type": "code",
   "execution_count": 166,
   "metadata": {},
   "outputs": [
    {
     "name": "stderr",
     "output_type": "stream",
     "text": [
      "/Users/pvb/miniconda3/lib/python3.7/site-packages/distributed/dashboard/core.py:79: UserWarning: \n",
      "Port 8787 is already in use. \n",
      "Perhaps you already have a cluster running?\n",
      "Hosting the diagnostics dashboard on a random port instead.\n",
      "  warnings.warn(\"\\n\" + msg)\n"
     ]
    },
    {
     "data": {
      "text/html": [
       "<table style=\"border: 2px solid white;\">\n",
       "<tr>\n",
       "<td style=\"vertical-align: top; border: 0px solid white\">\n",
       "<h3 style=\"text-align: left;\">Client</h3>\n",
       "<ul style=\"text-align: left; list-style: none; margin: 0; padding: 0;\">\n",
       "  <li><b>Scheduler: </b>tcp://127.0.0.1:54492</li>\n",
       "  <li><b>Dashboard: </b><a href='http://127.0.0.1:54493/status' target='_blank'>http://127.0.0.1:54493/status</a>\n",
       "</ul>\n",
       "</td>\n",
       "<td style=\"vertical-align: top; border: 0px solid white\">\n",
       "<h3 style=\"text-align: left;\">Cluster</h3>\n",
       "<ul style=\"text-align: left; list-style:none; margin: 0; padding: 0;\">\n",
       "  <li><b>Workers: </b>1</li>\n",
       "  <li><b>Cores: </b>8</li>\n",
       "  <li><b>Memory: </b>8.00 GB</li>\n",
       "</ul>\n",
       "</td>\n",
       "</tr>\n",
       "</table>"
      ],
      "text/plain": [
       "<Client: 'tcp://127.0.0.1:54492' processes=1 threads=8, memory=8.00 GB>"
      ]
     },
     "execution_count": 166,
     "metadata": {},
     "output_type": "execute_result"
    }
   ],
   "source": [
    "from dask.distributed import Client\n",
    "client = Client(n_workers=1, threads_per_worker=8, memory_limit=8e9)\n",
    "client"
   ]
  },
  {
   "cell_type": "markdown",
   "metadata": {},
   "source": [
    "## Data files"
   ]
  },
  {
   "cell_type": "code",
   "execution_count": 167,
   "metadata": {},
   "outputs": [
    {
     "name": "stdout",
     "output_type": "stream",
     "text": [
      "Found 1 mesh/mask files, 10 U files, and 10 V files.\n"
     ]
    }
   ],
   "source": [
    "MESH_MASK_files = list(sorted(\n",
    "    (global_data_path / \"mask\" / experiment_id).glob(\n",
    "        f\"{nest_prefix}mesh_mask{code_area}.nc\"\n",
    "    )\n",
    "))\n",
    "\n",
    "U_files = list(sorted(\n",
    "    (global_data_path / \"data\" / experiment_id).glob(\n",
    "        f\"{nest_prefix}{experiment_id}_{time_average}_200*_*_grid_U{code_area}.nc\"\n",
    "    )\n",
    "))\n",
    "\n",
    "V_files = list(sorted(\n",
    "    (global_data_path / \"data\" / experiment_id).glob(\n",
    "        f\"{nest_prefix}{experiment_id}_{time_average}_200*_*_grid_V{code_area}.nc\"\n",
    "    )\n",
    "))\n",
    "\n",
    "print(f\"Found {len(MESH_MASK_files)} mesh/mask files, {len(U_files)} U files, and {len(V_files)} V files.\")"
   ]
  },
  {
   "cell_type": "code",
   "execution_count": 168,
   "metadata": {},
   "outputs": [
    {
     "data": {
      "text/plain": [
       "[PosixPath('GeomarData/mask/INALT20.L46-KFS044/1_mesh_mask_9W_35S10S.nc')]"
      ]
     },
     "execution_count": 168,
     "metadata": {},
     "output_type": "execute_result"
    }
   ],
   "source": [
    "MESH_MASK_files"
   ]
  },
  {
   "cell_type": "markdown",
   "metadata": {},
   "source": [
    "## Load Data"
   ]
  },
  {
   "cell_type": "code",
   "execution_count": 169,
   "metadata": {},
   "outputs": [],
   "source": [
    "#Auxiliary data\n",
    "ds_mesh_mask = xr.open_mfdataset(\n",
    "    MESH_MASK_files,\n",
    "    chunks={\n",
    "        \"z\": chu_z,\n",
    "        \"y\": chu_y,\n",
    "        \"x\": chu_x\n",
    "    },\n",
    "    combine='by_coords')\n",
    "#ds_mesh_mask = ds_mesh_mask.squeeze()  # remove degenerate time dim\n",
    "#ds_mesh_mask = ds_mesh_mask.set_coords([\"nav_lat\", \"nav_lon\"])\n",
    "#neccesary for xorca_brokenline to work\n",
    "#ds_mesh_mask = ds_mesh_mask.expand_dims('t')\n",
    "#ds_mesh_mask = ds_mesh_mask.rename({'nav_lev':'nav_lev_0'})\n",
    "#ds_mesh_mask['nav_lev'] = ds_mesh_mask.nav_lev_0.isel(t=0)\n",
    "ds_mesh_mask = ds_mesh_mask.rename({'e3t_0':'e3t','e3u_0':'e3u','e3v_0':'e3v'})"
   ]
  },
  {
   "cell_type": "code",
   "execution_count": 170,
   "metadata": {},
   "outputs": [],
   "source": [
    "ds_U = xr.open_mfdataset(\n",
    "    U_files,\n",
    "    chunks={\n",
    "        \"time_counter\": chu_t,\n",
    "        \"depthu\": chu_z,\n",
    "        \"y\": chu_y,\n",
    "        \"x\": chu_x\n",
    "    },\n",
    "    combine='by_coords')"
   ]
  },
  {
   "cell_type": "code",
   "execution_count": 171,
   "metadata": {},
   "outputs": [],
   "source": [
    "ds_U = ds_U.rename({\"time_counter\" : \"t\", \"depthu\" : \"z\"})"
   ]
  },
  {
   "cell_type": "code",
   "execution_count": 172,
   "metadata": {},
   "outputs": [],
   "source": [
    "U = ds_U.vozocrtx"
   ]
  },
  {
   "cell_type": "code",
   "execution_count": 173,
   "metadata": {},
   "outputs": [],
   "source": [
    "ds_V = xr.open_mfdataset(\n",
    "    V_files,\n",
    "    chunks={\n",
    "        \"time_counter\": chu_t,\n",
    "        \"depthv\": chu_z,\n",
    "        \"y\": chu_y,\n",
    "        \"x\": chu_x\n",
    "    },\n",
    "    combine='by_coords')"
   ]
  },
  {
   "cell_type": "code",
   "execution_count": 174,
   "metadata": {},
   "outputs": [],
   "source": [
    "ds_V = ds_V.rename({\"time_counter\" : \"t\", \"depthv\" : \"z\"})"
   ]
  },
  {
   "cell_type": "code",
   "execution_count": 175,
   "metadata": {},
   "outputs": [
    {
     "data": {
      "text/html": [
       "<pre>&lt;xarray.DataArray &#x27;vomecrty&#x27; (t: 730, z: 46, y: 551, x: 21)&gt;\n",
       "dask.array&lt;concatenate, shape=(730, 46, 551, 21), dtype=float32, chunksize=(1, 46, 551, 21), chunktype=numpy.ndarray&gt;\n",
       "Coordinates:\n",
       "    nav_lon        (y, x) float32 dask.array&lt;chunksize=(551, 21), meta=np.ndarray&gt;\n",
       "    nav_lat        (y, x) float32 dask.array&lt;chunksize=(551, 21), meta=np.ndarray&gt;\n",
       "  * z              (z) float32 3.0467727 9.454049 ... 5624.9517 5875.141\n",
       "    time_centered  (t) object dask.array&lt;chunksize=(1,), meta=np.ndarray&gt;\n",
       "  * t              (t) object 2000-01-03 12:00:00 ... 2009-12-29 12:00:00\n",
       "Dimensions without coordinates: y, x\n",
       "Attributes:\n",
       "    standard_name:       sea_water_y_velocity\n",
       "    long_name:           ocean current along j-axis\n",
       "    units:               m/s\n",
       "    online_operation:    average\n",
       "    interval_operation:  400 s\n",
       "    interval_write:      5 d\n",
       "    cell_methods:        time: mean (interval: 400 s)</pre>"
      ],
      "text/plain": [
       "<xarray.DataArray 'vomecrty' (t: 730, z: 46, y: 551, x: 21)>\n",
       "dask.array<concatenate, shape=(730, 46, 551, 21), dtype=float32, chunksize=(1, 46, 551, 21), chunktype=numpy.ndarray>\n",
       "Coordinates:\n",
       "    nav_lon        (y, x) float32 dask.array<chunksize=(551, 21), meta=np.ndarray>\n",
       "    nav_lat        (y, x) float32 dask.array<chunksize=(551, 21), meta=np.ndarray>\n",
       "  * z              (z) float32 3.0467727 9.454049 ... 5624.9517 5875.141\n",
       "    time_centered  (t) object dask.array<chunksize=(1,), meta=np.ndarray>\n",
       "  * t              (t) object 2000-01-03 12:00:00 ... 2009-12-29 12:00:00\n",
       "Dimensions without coordinates: y, x\n",
       "Attributes:\n",
       "    standard_name:       sea_water_y_velocity\n",
       "    long_name:           ocean current along j-axis\n",
       "    units:               m/s\n",
       "    online_operation:    average\n",
       "    interval_operation:  400 s\n",
       "    interval_write:      5 d\n",
       "    cell_methods:        time: mean (interval: 400 s)"
      ]
     },
     "execution_count": 175,
     "metadata": {},
     "output_type": "execute_result"
    }
   ],
   "source": [
    "V = ds_V.vomecrty\n",
    "V"
   ]
  },
  {
   "cell_type": "code",
   "execution_count": 176,
   "metadata": {},
   "outputs": [
    {
     "data": {
      "image/png": "[encoded data removed]",
      "text/plain": [
       "<Figure size 1440x504 with 1 Axes>"
      ]
     },
     "metadata": {
      "needs_background": "light"
     },
     "output_type": "display_data"
    }
   ],
   "source": [
    "fig, ax= plt.subplots()\n",
    "ax.plot(U.nav_lon,U.nav_lat);"
   ]
  },
  {
   "cell_type": "code",
   "execution_count": 177,
   "metadata": {},
   "outputs": [
    {
     "data": {
      "text/html": [
       "<pre>&lt;xarray.Dataset&gt;\n",
       "Dimensions:       (t: 1, x: 21, y: 551, z: 46)\n",
       "Dimensions without coordinates: t, x, y, z\n",
       "Data variables:\n",
       "    nav_lon       (y, x) float32 dask.array&lt;chunksize=(551, 21), meta=np.ndarray&gt;\n",
       "    nav_lat       (y, x) float32 dask.array&lt;chunksize=(551, 21), meta=np.ndarray&gt;\n",
       "    nav_lev       (z) float32 dask.array&lt;chunksize=(46,), meta=np.ndarray&gt;\n",
       "    time_counter  (t) float64 dask.array&lt;chunksize=(1,), meta=np.ndarray&gt;\n",
       "    tmask         (t, z, y, x) int8 dask.array&lt;chunksize=(1, 46, 551, 21), meta=np.ndarray&gt;\n",
       "    umask         (t, z, y, x) int8 dask.array&lt;chunksize=(1, 46, 551, 21), meta=np.ndarray&gt;\n",
       "    vmask         (t, z, y, x) int8 dask.array&lt;chunksize=(1, 46, 551, 21), meta=np.ndarray&gt;\n",
       "    fmask         (t, z, y, x) int8 dask.array&lt;chunksize=(1, 46, 551, 21), meta=np.ndarray&gt;\n",
       "    tmaskutil     (t, y, x) int8 dask.array&lt;chunksize=(1, 551, 21), meta=np.ndarray&gt;\n",
       "    umaskutil     (t, y, x) int8 dask.array&lt;chunksize=(1, 551, 21), meta=np.ndarray&gt;\n",
       "    vmaskutil     (t, y, x) int8 dask.array&lt;chunksize=(1, 551, 21), meta=np.ndarray&gt;\n",
       "    fmaskutil     (t, y, x) int8 dask.array&lt;chunksize=(1, 551, 21), meta=np.ndarray&gt;\n",
       "    glamt         (t, y, x) float32 dask.array&lt;chunksize=(1, 551, 21), meta=np.ndarray&gt;\n",
       "    glamu         (t, y, x) float32 dask.array&lt;chunksize=(1, 551, 21), meta=np.ndarray&gt;\n",
       "    glamv         (t, y, x) float32 dask.array&lt;chunksize=(1, 551, 21), meta=np.ndarray&gt;\n",
       "    glamf         (t, y, x) float32 dask.array&lt;chunksize=(1, 551, 21), meta=np.ndarray&gt;\n",
       "    gphit         (t, y, x) float32 dask.array&lt;chunksize=(1, 551, 21), meta=np.ndarray&gt;\n",
       "    gphiu         (t, y, x) float32 dask.array&lt;chunksize=(1, 551, 21), meta=np.ndarray&gt;\n",
       "    gphiv         (t, y, x) float32 dask.array&lt;chunksize=(1, 551, 21), meta=np.ndarray&gt;\n",
       "    gphif         (t, y, x) float32 dask.array&lt;chunksize=(1, 551, 21), meta=np.ndarray&gt;\n",
       "    e1t           (t, y, x) float64 dask.array&lt;chunksize=(1, 551, 21), meta=np.ndarray&gt;\n",
       "    e1u           (t, y, x) float64 dask.array&lt;chunksize=(1, 551, 21), meta=np.ndarray&gt;\n",
       "    e1v           (t, y, x) float64 dask.array&lt;chunksize=(1, 551, 21), meta=np.ndarray&gt;\n",
       "    e1f           (t, y, x) float64 dask.array&lt;chunksize=(1, 551, 21), meta=np.ndarray&gt;\n",
       "    e2t           (t, y, x) float64 dask.array&lt;chunksize=(1, 551, 21), meta=np.ndarray&gt;\n",
       "    e2u           (t, y, x) float64 dask.array&lt;chunksize=(1, 551, 21), meta=np.ndarray&gt;\n",
       "    e2v           (t, y, x) float64 dask.array&lt;chunksize=(1, 551, 21), meta=np.ndarray&gt;\n",
       "    e2f           (t, y, x) float64 dask.array&lt;chunksize=(1, 551, 21), meta=np.ndarray&gt;\n",
       "    ff            (t, y, x) float64 dask.array&lt;chunksize=(1, 551, 21), meta=np.ndarray&gt;\n",
       "    mbathy        (t, y, x) int16 dask.array&lt;chunksize=(1, 551, 21), meta=np.ndarray&gt;\n",
       "    misf          (t, y, x) int16 dask.array&lt;chunksize=(1, 551, 21), meta=np.ndarray&gt;\n",
       "    isfdraft      (t, y, x) float32 dask.array&lt;chunksize=(1, 551, 21), meta=np.ndarray&gt;\n",
       "    e3t           (t, z, y, x) float64 dask.array&lt;chunksize=(1, 46, 551, 21), meta=np.ndarray&gt;\n",
       "    e3u           (t, z, y, x) float64 dask.array&lt;chunksize=(1, 46, 551, 21), meta=np.ndarray&gt;\n",
       "    e3v           (t, z, y, x) float64 dask.array&lt;chunksize=(1, 46, 551, 21), meta=np.ndarray&gt;\n",
       "    e3w_0         (t, z, y, x) float64 dask.array&lt;chunksize=(1, 46, 551, 21), meta=np.ndarray&gt;\n",
       "    gdept_0       (t, z, y, x) float32 dask.array&lt;chunksize=(1, 46, 551, 21), meta=np.ndarray&gt;\n",
       "    gdepu         (t, z, y, x) float32 dask.array&lt;chunksize=(1, 46, 551, 21), meta=np.ndarray&gt;\n",
       "    gdepv         (t, z, y, x) float32 dask.array&lt;chunksize=(1, 46, 551, 21), meta=np.ndarray&gt;\n",
       "    gdepw_0       (t, z, y, x) float32 dask.array&lt;chunksize=(1, 46, 551, 21), meta=np.ndarray&gt;\n",
       "    gdept_1d      (t, z) float64 dask.array&lt;chunksize=(1, 46), meta=np.ndarray&gt;\n",
       "    gdepw_1d      (t, z) float64 dask.array&lt;chunksize=(1, 46), meta=np.ndarray&gt;\n",
       "    e3t_1d        (t, z) float64 dask.array&lt;chunksize=(1, 46), meta=np.ndarray&gt;\n",
       "    e3w_1d        (t, z) float64 dask.array&lt;chunksize=(1, 46), meta=np.ndarray&gt;\n",
       "Attributes:\n",
       "    history:                   Mon Jun 24 08:49:18 2019: ncrcat -F -d x,1200,...\n",
       "    NCO:                       4.6.8\n",
       "    nco_openmp_thread_number:  1</pre>"
      ],
      "text/plain": [
       "<xarray.Dataset>\n",
       "Dimensions:       (t: 1, x: 21, y: 551, z: 46)\n",
       "Dimensions without coordinates: t, x, y, z\n",
       "Data variables:\n",
       "    nav_lon       (y, x) float32 dask.array<chunksize=(551, 21), meta=np.ndarray>\n",
       "    nav_lat       (y, x) float32 dask.array<chunksize=(551, 21), meta=np.ndarray>\n",
       "    nav_lev       (z) float32 dask.array<chunksize=(46,), meta=np.ndarray>\n",
       "    time_counter  (t) float64 dask.array<chunksize=(1,), meta=np.ndarray>\n",
       "    tmask         (t, z, y, x) int8 dask.array<chunksize=(1, 46, 551, 21), meta=np.ndarray>\n",
       "    umask         (t, z, y, x) int8 dask.array<chunksize=(1, 46, 551, 21), meta=np.ndarray>\n",
       "    vmask         (t, z, y, x) int8 dask.array<chunksize=(1, 46, 551, 21), meta=np.ndarray>\n",
       "    fmask         (t, z, y, x) int8 dask.array<chunksize=(1, 46, 551, 21), meta=np.ndarray>\n",
       "    tmaskutil     (t, y, x) int8 dask.array<chunksize=(1, 551, 21), meta=np.ndarray>\n",
       "    umaskutil     (t, y, x) int8 dask.array<chunksize=(1, 551, 21), meta=np.ndarray>\n",
       "    vmaskutil     (t, y, x) int8 dask.array<chunksize=(1, 551, 21), meta=np.ndarray>\n",
       "    fmaskutil     (t, y, x) int8 dask.array<chunksize=(1, 551, 21), meta=np.ndarray>\n",
       "    glamt         (t, y, x) float32 dask.array<chunksize=(1, 551, 21), meta=np.ndarray>\n",
       "    glamu         (t, y, x) float32 dask.array<chunksize=(1, 551, 21), meta=np.ndarray>\n",
       "    glamv         (t, y, x) float32 dask.array<chunksize=(1, 551, 21), meta=np.ndarray>\n",
       "    glamf         (t, y, x) float32 dask.array<chunksize=(1, 551, 21), meta=np.ndarray>\n",
       "    gphit         (t, y, x) float32 dask.array<chunksize=(1, 551, 21), meta=np.ndarray>\n",
       "    gphiu         (t, y, x) float32 dask.array<chunksize=(1, 551, 21), meta=np.ndarray>\n",
       "    gphiv         (t, y, x) float32 dask.array<chunksize=(1, 551, 21), meta=np.ndarray>\n",
       "    gphif         (t, y, x) float32 dask.array<chunksize=(1, 551, 21), meta=np.ndarray>\n",
       "    e1t           (t, y, x) float64 dask.array<chunksize=(1, 551, 21), meta=np.ndarray>\n",
       "    e1u           (t, y, x) float64 dask.array<chunksize=(1, 551, 21), meta=np.ndarray>\n",
       "    e1v           (t, y, x) float64 dask.array<chunksize=(1, 551, 21), meta=np.ndarray>\n",
       "    e1f           (t, y, x) float64 dask.array<chunksize=(1, 551, 21), meta=np.ndarray>\n",
       "    e2t           (t, y, x) float64 dask.array<chunksize=(1, 551, 21), meta=np.ndarray>\n",
       "    e2u           (t, y, x) float64 dask.array<chunksize=(1, 551, 21), meta=np.ndarray>\n",
       "    e2v           (t, y, x) float64 dask.array<chunksize=(1, 551, 21), meta=np.ndarray>\n",
       "    e2f           (t, y, x) float64 dask.array<chunksize=(1, 551, 21), meta=np.ndarray>\n",
       "    ff            (t, y, x) float64 dask.array<chunksize=(1, 551, 21), meta=np.ndarray>\n",
       "    mbathy        (t, y, x) int16 dask.array<chunksize=(1, 551, 21), meta=np.ndarray>\n",
       "    misf          (t, y, x) int16 dask.array<chunksize=(1, 551, 21), meta=np.ndarray>\n",
       "    isfdraft      (t, y, x) float32 dask.array<chunksize=(1, 551, 21), meta=np.ndarray>\n",
       "    e3t           (t, z, y, x) float64 dask.array<chunksize=(1, 46, 551, 21), meta=np.ndarray>\n",
       "    e3u           (t, z, y, x) float64 dask.array<chunksize=(1, 46, 551, 21), meta=np.ndarray>\n",
       "    e3v           (t, z, y, x) float64 dask.array<chunksize=(1, 46, 551, 21), meta=np.ndarray>\n",
       "    e3w_0         (t, z, y, x) float64 dask.array<chunksize=(1, 46, 551, 21), meta=np.ndarray>\n",
       "    gdept_0       (t, z, y, x) float32 dask.array<chunksize=(1, 46, 551, 21), meta=np.ndarray>\n",
       "    gdepu         (t, z, y, x) float32 dask.array<chunksize=(1, 46, 551, 21), meta=np.ndarray>\n",
       "    gdepv         (t, z, y, x) float32 dask.array<chunksize=(1, 46, 551, 21), meta=np.ndarray>\n",
       "    gdepw_0       (t, z, y, x) float32 dask.array<chunksize=(1, 46, 551, 21), meta=np.ndarray>\n",
       "    gdept_1d      (t, z) float64 dask.array<chunksize=(1, 46), meta=np.ndarray>\n",
       "    gdepw_1d      (t, z) float64 dask.array<chunksize=(1, 46), meta=np.ndarray>\n",
       "    e3t_1d        (t, z) float64 dask.array<chunksize=(1, 46), meta=np.ndarray>\n",
       "    e3w_1d        (t, z) float64 dask.array<chunksize=(1, 46), meta=np.ndarray>\n",
       "Attributes:\n",
       "    history:                   Mon Jun 24 08:49:18 2019: ncrcat -F -d x,1200,...\n",
       "    NCO:                       4.6.8\n",
       "    nco_openmp_thread_number:  1"
      ]
     },
     "execution_count": 177,
     "metadata": {},
     "output_type": "execute_result"
    }
   ],
   "source": [
    "ds_mesh_mask"
   ]
  },
  {
   "cell_type": "code",
   "execution_count": 178,
   "metadata": {},
   "outputs": [
    {
     "data": {
      "text/plain": [
       "<matplotlib.colorbar.Colorbar at 0x132f6fd50>"
      ]
     },
     "execution_count": 178,
     "metadata": {},
     "output_type": "execute_result"
    },
    {
     "data": {
      "image/png": "[encoded data removed]",
      "text/plain": [
       "<Figure size 1440x504 with 2 Axes>"
      ]
     },
     "metadata": {
      "needs_background": "light"
     },
     "output_type": "display_data"
    }
   ],
   "source": [
    "Vsel=V.isel(t=1).isel(x=1)\n",
    "fig, ax= plt.subplots()\n",
    "cntr1=ax.contourf(Vsel.nav_lat,-Vsel.z,Vsel,levels=20, cmap=\"RdBu_r\")\n",
    "fig.colorbar(cntr1, ax=ax)"
   ]
  },
  {
   "cell_type": "code",
   "execution_count": 179,
   "metadata": {},
   "outputs": [
    {
     "data": {
      "text/plain": [
       "<matplotlib.colorbar.Colorbar at 0x12cb81ad0>"
      ]
     },
     "execution_count": 179,
     "metadata": {},
     "output_type": "execute_result"
    },
    {
     "data": {
      "image/png": "[encoded data removed]",
      "text/plain": [
       "<Figure size 1440x504 with 2 Axes>"
      ]
     },
     "metadata": {
      "needs_background": "light"
     },
     "output_type": "display_data"
    }
   ],
   "source": [
    "Usel=U.isel(t=1).isel(x=1)\n",
    "fig, ax= plt.subplots()\n",
    "cntr1=ax.contourf(Usel.nav_lat,-Usel.z,Usel,levels=20, cmap=\"RdBu_r\")\n",
    "fig.colorbar(cntr1, ax=ax)"
   ]
  },
  {
   "cell_type": "markdown",
   "metadata": {},
   "source": [
    "## Define section"
   ]
  },
  {
   "cell_type": "code",
   "execution_count": 180,
   "metadata": {},
   "outputs": [
    {
     "data": {
      "text/plain": [
       "array([  6.407276 ,   6.909917 ,   7.5347443,   8.310579 ,   9.272564 ,\n",
       "        10.463276 ,  11.933922 ,  13.7454605,  15.969612 ,  18.689362 ,\n",
       "        21.998787 ,  26.001724 ,  30.808517 ,  36.530807 ,  43.27289  ,\n",
       "        51.120697 ,  60.127472 ,  70.29852  ,  81.57681  ,  93.83276  ,\n",
       "       106.86255  , 120.39618  , 134.11768  , 147.69312  , 160.80237  ,\n",
       "       173.16858  , 184.57874  , 194.8938   , 204.04834  , 212.0398   ,\n",
       "       218.91724  , 224.76245  , 229.67847  , 233.77661  , 237.16748  ,\n",
       "       239.95605  , 242.2378   , 244.09717  , 245.60742  , 246.83057  ,\n",
       "       247.81836  , 248.61572  , 249.25781  , 249.7749   , 250.18945  ],\n",
       "      dtype=float32)"
      ]
     },
     "execution_count": 180,
     "metadata": {},
     "output_type": "execute_result"
    }
   ],
   "source": [
    "prev=U.z.values\n",
    "diffPre=np.diff(prev)\n",
    "diffPre"
   ]
  },
  {
   "cell_type": "code",
   "execution_count": 181,
   "metadata": {},
   "outputs": [],
   "source": [
    "pre_min = 0000;\n",
    "pre_max = 3000;\n",
    "prev=U.z.values\n",
    "ipre_min = (np.abs(prev-pre_min)).argmin()\n",
    "ipre_max = (np.abs(prev-pre_max)).argmin()"
   ]
  },
  {
   "cell_type": "code",
   "execution_count": null,
   "metadata": {},
   "outputs": [],
   "source": []
  },
  {
   "cell_type": "code",
   "execution_count": 182,
   "metadata": {},
   "outputs": [
    {
     "name": "stdout",
     "output_type": "stream",
     "text": [
      "ilon: 9 9\n",
      "ilat: 74 342\n"
     ]
    }
   ],
   "source": [
    "lon_sa_min=-9\n",
    "lon_sa_max=-9\n",
    "lat_sa_min=-32\n",
    "lat_sa_max=-20\n",
    "\n",
    "lonv = U.nav_lon.isel(y=0).values\n",
    "ilonv_min = (np.abs(lonv-lon_sa_min)).argmin()\n",
    "ilonv_max = (np.abs(lonv-lon_sa_max)).argmin()\n",
    "\n",
    "latv = U.nav_lat.isel(x=0).values\n",
    "ilatv_min = (np.abs(latv-lat_sa_min)).argmin()\n",
    "ilatv_max = (np.abs(latv-lat_sa_max)).argmin()\n",
    "\n",
    "print('ilon:',ilonv_min,ilonv_max)\n",
    "print('ilat:',ilatv_min,ilatv_max)"
   ]
  },
  {
   "cell_type": "code",
   "execution_count": 183,
   "metadata": {},
   "outputs": [],
   "source": [
    "ji_pairs = [\n",
    "    (ilatv_min, ilonv_min),\n",
    "    (ilatv_max,ilonv_max)\n",
    "]"
   ]
  },
  {
   "cell_type": "code",
   "execution_count": 184,
   "metadata": {},
   "outputs": [],
   "source": [
    "fmask = ds_mesh_mask['fmask'].isel(z=0,t=0)"
   ]
  },
  {
   "cell_type": "code",
   "execution_count": 185,
   "metadata": {},
   "outputs": [
    {
     "ename": "NameError",
     "evalue": "name 'ii' is not defined",
     "output_type": "error",
     "traceback": [
      "\u001b[0;31m---------------------------------------------------------------------------\u001b[0m",
      "\u001b[0;31mNameError\u001b[0m                                 Traceback (most recent call last)",
      "\u001b[0;32m<ipython-input-185-29e5ef82c068>\u001b[0m in \u001b[0;36m<module>\u001b[0;34m\u001b[0m\n\u001b[1;32m      1\u001b[0m \u001b[0mfmask\u001b[0m\u001b[0;34m.\u001b[0m\u001b[0mplot\u001b[0m\u001b[0;34m(\u001b[0m\u001b[0mcmap\u001b[0m\u001b[0;34m=\u001b[0m\u001b[0mc\u001b[0m\u001b[0;34m.\u001b[0m\u001b[0mListedColormap\u001b[0m\u001b[0;34m(\u001b[0m\u001b[0;34m[\u001b[0m\u001b[0;34m'gray'\u001b[0m\u001b[0;34m,\u001b[0m\u001b[0;34m'white'\u001b[0m\u001b[0;34m]\u001b[0m\u001b[0;34m)\u001b[0m\u001b[0;34m,\u001b[0m\u001b[0madd_colorbar\u001b[0m\u001b[0;34m=\u001b[0m\u001b[0;36m0\u001b[0m\u001b[0;34m)\u001b[0m\u001b[0;34m\u001b[0m\u001b[0;34m\u001b[0m\u001b[0m\n\u001b[0;32m----> 2\u001b[0;31m \u001b[0mplt\u001b[0m\u001b[0;34m.\u001b[0m\u001b[0mplot\u001b[0m\u001b[0;34m(\u001b[0m\u001b[0mii\u001b[0m\u001b[0;34m,\u001b[0m\u001b[0mjj\u001b[0m\u001b[0;34m,\u001b[0m\u001b[0;34m'x'\u001b[0m\u001b[0;34m)\u001b[0m\u001b[0;34m\u001b[0m\u001b[0;34m\u001b[0m\u001b[0m\n\u001b[0m\u001b[1;32m      3\u001b[0m \u001b[0mplt\u001b[0m\u001b[0;34m.\u001b[0m\u001b[0mylabel\u001b[0m\u001b[0;34m(\u001b[0m\u001b[0;34m\"j\"\u001b[0m\u001b[0;34m)\u001b[0m\u001b[0;34m\u001b[0m\u001b[0;34m\u001b[0m\u001b[0m\n\u001b[1;32m      4\u001b[0m \u001b[0mplt\u001b[0m\u001b[0;34m.\u001b[0m\u001b[0mxlabel\u001b[0m\u001b[0;34m(\u001b[0m\u001b[0;34m\"i\"\u001b[0m\u001b[0;34m)\u001b[0m\u001b[0;34m\u001b[0m\u001b[0;34m\u001b[0m\u001b[0m\n\u001b[1;32m      5\u001b[0m \u001b[0mplt\u001b[0m\u001b[0;34m.\u001b[0m\u001b[0mtitle\u001b[0m\u001b[0;34m(\u001b[0m\u001b[0;34m'Selected points'\u001b[0m\u001b[0;34m)\u001b[0m\u001b[0;34m;\u001b[0m\u001b[0;34m\u001b[0m\u001b[0;34m\u001b[0m\u001b[0m\n",
      "\u001b[0;31mNameError\u001b[0m: name 'ii' is not defined"
     ]
    },
    {
     "data": {
      "image/png": "[encoded data removed]",
      "text/plain": [
       "<Figure size 1440x504 with 1 Axes>"
      ]
     },
     "metadata": {
      "needs_background": "light"
     },
     "output_type": "display_data"
    }
   ],
   "source": [
    "fmask.plot(cmap=c.ListedColormap(['gray','white']),add_colorbar=0)\n",
    "plt.plot(ii,jj,'x')\n",
    "plt.ylabel(\"j\")\n",
    "plt.xlabel(\"i\")\n",
    "plt.title('Selected points');"
   ]
  },
  {
   "cell_type": "markdown",
   "metadata": {},
   "source": [
    "## Extract Section\n",
    "bl.shift_grids() interpolates all variables onto the u- and v-points, drops unnecessary coordinate labels and variables and renames depth dimension. <br>\n",
    "select_section() selects the section defined by ji from gridU_processed and gridV_processed and returns a section.\n"
   ]
  },
  {
   "cell_type": "code",
   "execution_count": null,
   "metadata": {},
   "outputs": [],
   "source": [
    "U_saga=U.isel(x=ilonv_min,y=slice(ilatv_min,ilatv_max),z=slice(ipre_min,ipre_max))"
   ]
  },
  {
   "cell_type": "code",
   "execution_count": null,
   "metadata": {},
   "outputs": [],
   "source": [
    "e3u_saga=ds_mesh_mask.e3u.isel(x=ilonv_min,y=slice(ilatv_min,ilatv_max),z=slice(ipre_min,ipre_max),t=0)\n",
    "e2u_saga=ds_mesh_mask.e2u.isel(x=ilonv_min,y=slice(ilatv_min,ilatv_max),t=0)"
   ]
  },
  {
   "cell_type": "code",
   "execution_count": null,
   "metadata": {},
   "outputs": [],
   "source": [
    "e2u_saga.plot()"
   ]
  },
  {
   "cell_type": "code",
   "execution_count": null,
   "metadata": {},
   "outputs": [],
   "source": [
    "U_saga"
   ]
  },
  {
   "cell_type": "code",
   "execution_count": null,
   "metadata": {},
   "outputs": [],
   "source": [
    "U_saga.isel(t=0).plot(x=\"nav_lat\",y=\"z\",yincrease=False);"
   ]
  },
  {
   "cell_type": "code",
   "execution_count": null,
   "metadata": {},
   "outputs": [],
   "source": [
    "e2u_saga"
   ]
  },
  {
   "cell_type": "code",
   "execution_count": null,
   "metadata": {},
   "outputs": [],
   "source": [
    "accU = (U_saga*e3u_saga*e2u_saga).sum(\"z\").cumsum(\"y\")/ 1.0e6"
   ]
  },
  {
   "cell_type": "code",
   "execution_count": null,
   "metadata": {},
   "outputs": [],
   "source": [
    "accU = accU.rename('AccumulatedTransportU')"
   ]
  },
  {
   "cell_type": "code",
   "execution_count": null,
   "metadata": {},
   "outputs": [],
   "source": [
    "accUme = accU.mean(dim=\"t\")\n",
    "accUst = accU.std(dim=\"t\")"
   ]
  },
  {
   "cell_type": "code",
   "execution_count": null,
   "metadata": {},
   "outputs": [],
   "source": [
    "accUme = accUme.compute()"
   ]
  },
  {
   "cell_type": "code",
   "execution_count": null,
   "metadata": {},
   "outputs": [],
   "source": [
    "accUst = accUst.compute()"
   ]
  },
  {
   "cell_type": "code",
   "execution_count": null,
   "metadata": {},
   "outputs": [],
   "source": [
    "fig, ax = plt.subplots(figsize=(10,6))\n",
    "ax.errorbar(x=accUme.nav_lat,y=accUme,yerr=accUst)\n",
    "#ax.plot(accUme.nav_lat,accUme)\n",
    "accU"
   ]
  },
  {
   "cell_type": "code",
   "execution_count": null,
   "metadata": {},
   "outputs": [],
   "source": []
  }
 ],
 "metadata": {
  "kernelspec": {
   "display_name": "Python 3",
   "language": "python",
   "name": "python3"
  },
  "language_info": {
   "codemirror_mode": {
    "name": "ipython",
    "version": 3
   },
   "file_extension": ".py",
   "mimetype": "text/x-python",
   "name": "python",
   "nbconvert_exporter": "python",
   "pygments_lexer": "ipython3",
   "version": "3.7.7"
  }
 },
 "nbformat": 4,
 "nbformat_minor": 4
}
