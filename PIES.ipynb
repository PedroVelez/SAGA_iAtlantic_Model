{
 "cells": [
  {
   "cell_type": "markdown",
   "metadata": {},
   "source": [
    "## Computing zonal flow in the Central South Atlantic\n",
    "The SAGA (the South Atlantic Gateaway) is located in [-32.5S, -20.0S ] along 9W "
   ]
  },
  {
   "cell_type": "code",
   "execution_count": 3,
   "metadata": {},
   "outputs": [],
   "source": [
    "from dask.distributed import Client, wait\n",
    "import dask\n",
    "from pathlib import Path\n",
    "\n",
    "from xorca.lib import load_xorca_dataset"
   ]
  },
  {
   "cell_type": "code",
   "execution_count": 4,
   "metadata": {},
   "outputs": [
    {
     "name": "stderr",
     "output_type": "stream",
     "text": [
      "/opt/tljh/user/envs/py3_euler/lib/python3.7/site-packages/distributed/dashboard/core.py:72: UserWarning: \n",
      "Port 8787 is already in use. \n",
      "Perhaps you already have a cluster running?\n",
      "Hosting the diagnostics dashboard on a random port instead.\n",
      "  warnings.warn(\"\\n\" + msg)\n"
     ]
    },
    {
     "data": {
      "text/html": [
       "<table style=\"border: 2px solid white;\">\n",
       "<tr>\n",
       "<td style=\"vertical-align: top; border: 0px solid white\">\n",
       "<h3 style=\"text-align: left;\">Client</h3>\n",
       "<ul style=\"text-align: left; list-style: none; margin: 0; padding: 0;\">\n",
       "  <li><b>Scheduler: </b>tcp://127.0.0.1:44847</li>\n",
       "  <li><b>Dashboard: </b><a href='/user/workshop020/proxy/45579/status' target='_blank'>/user/workshop020/proxy/45579/status</a>\n",
       "</ul>\n",
       "</td>\n",
       "<td style=\"vertical-align: top; border: 0px solid white\">\n",
       "<h3 style=\"text-align: left;\">Cluster</h3>\n",
       "<ul style=\"text-align: left; list-style:none; margin: 0; padding: 0;\">\n",
       "  <li><b>Workers: </b>1</li>\n",
       "  <li><b>Cores: </b>8</li>\n",
       "  <li><b>Memory: </b>12.00 GB</li>\n",
       "</ul>\n",
       "</td>\n",
       "</tr>\n",
       "</table>"
      ],
      "text/plain": [
       "<Client: 'tcp://127.0.0.1:44847' processes=1 threads=8, memory=12.00 GB>"
      ]
     },
     "execution_count": 4,
     "metadata": {},
     "output_type": "execute_result"
    }
   ],
   "source": [
    "client = Client(n_workers=1, threads_per_worker=8, memory_limit=12e9)\n",
    "client"
   ]
  },
  {
   "cell_type": "code",
   "execution_count": null,
   "metadata": {},
   "outputs": [],
   "source": [
    "#Region\n"
   ]
  },
  {
   "cell_type": "code",
   "execution_count": 11,
   "metadata": {},
   "outputs": [],
   "source": [
    "# parameters\n",
    "global_data_path = Path(\"/data/iAtlantic/\")\n",
    "experiment_id = \"VIKING20X.L46-KKG36107B\"\n",
    "\n",
    "#restrict_years = \"201[0-1]\"  # restricts to 2010 and 2011\n",
    "restrict_years = \"2010\""
   ]
  },
  {
   "cell_type": "markdown",
   "metadata": {},
   "source": [
    "## Select data files"
   ]
  },
  {
   "cell_type": "code",
   "execution_count": 12,
   "metadata": {},
   "outputs": [],
   "source": [
    "data_files = list(sorted(\n",
    "    (global_data_path / \"data\" / experiment_id).glob(f\"{experiment_id}_1m_{restrict_years}????_{restrict_years}????_grid_*.nc\")\n",
    "))\n",
    "aux_files = list(sorted(\n",
    "    (global_data_path / \"mask\" / experiment_id).glob(\"[m,n]*.nc\")\n",
    "))"
   ]
  },
  {
   "cell_type": "code",
   "execution_count": 13,
   "metadata": {},
   "outputs": [
    {
     "data": {
      "text/plain": [
       "[PosixPath('/data/iAtlantic/data/VIKING20X.L46-KKG36107B/VIKING20X.L46-KKG36107B_1m_20100101_20101231_grid_T.nc'),\n",
       " PosixPath('/data/iAtlantic/data/VIKING20X.L46-KKG36107B/VIKING20X.L46-KKG36107B_1m_20100101_20101231_grid_U.nc'),\n",
       " PosixPath('/data/iAtlantic/data/VIKING20X.L46-KKG36107B/VIKING20X.L46-KKG36107B_1m_20100101_20101231_grid_V.nc')]"
      ]
     },
     "execution_count": 13,
     "metadata": {},
     "output_type": "execute_result"
    }
   ],
   "source": [
    "data_files"
   ]
  },
  {
   "cell_type": "code",
   "execution_count": 14,
   "metadata": {},
   "outputs": [],
   "source": [
    "with dask.config.set(scheduler='synchronous'):\n",
    "    ds_xorca = load_xorca_dataset(\n",
    "        data_files=data_files, aux_files=aux_files,\n",
    "        decode_cf=True,\n",
    "        input_ds_chunks={\"time_counter\": 3, \"t\": 3,\n",
    "                       \"z\": 23, \"Z\": 23,\n",
    "                       \"deptht\": 23, \"depthu\": 23,\n",
    "                       \"depthv\": 23, \"depthw\": 23,\n",
    "                       \"y\": 511, \"Y\": 511,\n",
    "                       \"x\": 361, \"X\": 361},\n",
    "        target_ds_chunks={\"t\": 3,\n",
    "                        \"z_c\": 23, \"z_l\": 23,\n",
    "                        \"y_c\": 511, \"y_r\": 511,\n",
    "                        \"x_c\": 360, \"x_r\": 360})"
   ]
  },
  {
   "cell_type": "code",
   "execution_count": 15,
   "metadata": {},
   "outputs": [
    {
     "data": {
      "text/html": [
       "<pre>&lt;xarray.Dataset&gt;\n",
       "Dimensions:   (t: 12, x_c: 1440, x_r: 1440, y_c: 1019, y_r: 1019, z_c: 46, z_l: 46)\n",
       "Coordinates:\n",
       "  * z_c       (z_c) int64 1 2 3 4 5 6 7 8 9 10 ... 37 38 39 40 41 42 43 44 45 46\n",
       "  * z_l       (z_l) float64 0.5 1.5 2.5 3.5 4.5 5.5 ... 41.5 42.5 43.5 44.5 45.5\n",
       "  * y_c       (y_c) int64 1 2 3 4 5 6 7 8 ... 1013 1014 1015 1016 1017 1018 1019\n",
       "  * y_r       (y_r) float64 1.5 2.5 3.5 4.5 ... 1.018e+03 1.018e+03 1.02e+03\n",
       "  * x_c       (x_c) int64 1 2 3 4 5 6 7 8 ... 1434 1435 1436 1437 1438 1439 1440\n",
       "  * x_r       (x_r) float64 1.5 2.5 3.5 4.5 ... 1.438e+03 1.44e+03 1.44e+03\n",
       "    depth_c   (z_c) float64 dask.array&lt;chunksize=(23,), meta=np.ndarray&gt;\n",
       "    depth_l   (z_l) float64 dask.array&lt;chunksize=(23,), meta=np.ndarray&gt;\n",
       "    llat_cc   (y_c, x_c) float32 dask.array&lt;chunksize=(511, 360), meta=np.ndarray&gt;\n",
       "    llat_cr   (y_c, x_r) float32 dask.array&lt;chunksize=(511, 360), meta=np.ndarray&gt;\n",
       "    llat_rc   (y_r, x_c) float32 dask.array&lt;chunksize=(511, 360), meta=np.ndarray&gt;\n",
       "    llat_rr   (y_r, x_r) float32 dask.array&lt;chunksize=(511, 360), meta=np.ndarray&gt;\n",
       "    llon_cc   (y_c, x_c) float32 dask.array&lt;chunksize=(511, 360), meta=np.ndarray&gt;\n",
       "    llon_cr   (y_c, x_r) float32 dask.array&lt;chunksize=(511, 360), meta=np.ndarray&gt;\n",
       "    llon_rc   (y_r, x_c) float32 dask.array&lt;chunksize=(511, 360), meta=np.ndarray&gt;\n",
       "    llon_rr   (y_r, x_r) float32 dask.array&lt;chunksize=(511, 360), meta=np.ndarray&gt;\n",
       "  * t         (t) datetime64[ns] 2010-01-16T12:00:00 ... 2010-12-16T12:00:00\n",
       "    e1t       (y_c, x_c) float64 dask.array&lt;chunksize=(511, 360), meta=np.ndarray&gt;\n",
       "    e2t       (y_c, x_c) float64 dask.array&lt;chunksize=(511, 360), meta=np.ndarray&gt;\n",
       "    e3t       (z_c, y_c, x_c) float64 dask.array&lt;chunksize=(23, 511, 360), meta=np.ndarray&gt;\n",
       "    e1u       (y_c, x_r) float64 dask.array&lt;chunksize=(511, 360), meta=np.ndarray&gt;\n",
       "    e2u       (y_c, x_r) float64 dask.array&lt;chunksize=(511, 360), meta=np.ndarray&gt;\n",
       "    e3u       (z_c, y_c, x_r) float64 dask.array&lt;chunksize=(23, 511, 360), meta=np.ndarray&gt;\n",
       "    e1v       (y_r, x_c) float64 dask.array&lt;chunksize=(511, 360), meta=np.ndarray&gt;\n",
       "    e2v       (y_r, x_c) float64 dask.array&lt;chunksize=(511, 360), meta=np.ndarray&gt;\n",
       "    e3v       (z_c, y_r, x_c) float64 dask.array&lt;chunksize=(23, 511, 360), meta=np.ndarray&gt;\n",
       "    e1f       (y_r, x_r) float64 dask.array&lt;chunksize=(511, 360), meta=np.ndarray&gt;\n",
       "    e2f       (y_r, x_r) float64 dask.array&lt;chunksize=(511, 360), meta=np.ndarray&gt;\n",
       "    e3w       (z_l, y_c, x_c) float64 dask.array&lt;chunksize=(23, 511, 360), meta=np.ndarray&gt;\n",
       "    tmask     (z_c, y_c, x_c) int8 dask.array&lt;chunksize=(23, 511, 360), meta=np.ndarray&gt;\n",
       "    umask     (z_c, y_c, x_r) int8 dask.array&lt;chunksize=(23, 511, 360), meta=np.ndarray&gt;\n",
       "    vmask     (z_c, y_r, x_c) int8 dask.array&lt;chunksize=(23, 511, 360), meta=np.ndarray&gt;\n",
       "    fmask     (z_c, y_r, x_r) int8 dask.array&lt;chunksize=(23, 511, 360), meta=np.ndarray&gt;\n",
       "Data variables:\n",
       "    sobowlin  (t, y_c, x_c) float32 dask.array&lt;chunksize=(3, 511, 360), meta=np.ndarray&gt;\n",
       "    sohefldo  (t, y_c, x_c) float32 dask.array&lt;chunksize=(3, 511, 360), meta=np.ndarray&gt;\n",
       "    sohefldp  (t, y_c, x_c) float32 dask.array&lt;chunksize=(3, 511, 360), meta=np.ndarray&gt;\n",
       "    somixhgt  (t, y_c, x_c) float32 dask.array&lt;chunksize=(3, 511, 360), meta=np.ndarray&gt;\n",
       "    somxl010  (t, y_c, x_c) float32 dask.array&lt;chunksize=(3, 511, 360), meta=np.ndarray&gt;\n",
       "    sosaline  (t, y_c, x_c) float32 dask.array&lt;chunksize=(3, 511, 360), meta=np.ndarray&gt;\n",
       "    soshfldo  (t, y_c, x_c) float32 dask.array&lt;chunksize=(3, 511, 360), meta=np.ndarray&gt;\n",
       "    sossheig  (t, y_c, x_c) float32 dask.array&lt;chunksize=(3, 511, 360), meta=np.ndarray&gt;\n",
       "    sosstsst  (t, y_c, x_c) float32 dask.array&lt;chunksize=(3, 511, 360), meta=np.ndarray&gt;\n",
       "    sowafldp  (t, y_c, x_c) float32 dask.array&lt;chunksize=(3, 511, 360), meta=np.ndarray&gt;\n",
       "    sowaflup  (t, y_c, x_c) float32 dask.array&lt;chunksize=(3, 511, 360), meta=np.ndarray&gt;\n",
       "    sowindsp  (t, y_c, x_c) float32 dask.array&lt;chunksize=(3, 511, 360), meta=np.ndarray&gt;\n",
       "    vosaline  (t, z_c, y_c, x_c) float32 dask.array&lt;chunksize=(3, 23, 511, 360), meta=np.ndarray&gt;\n",
       "    votemper  (t, z_c, y_c, x_c) float32 dask.array&lt;chunksize=(3, 23, 511, 360), meta=np.ndarray&gt;\n",
       "    sometauy  (t, y_r, x_c) float32 dask.array&lt;chunksize=(3, 511, 360), meta=np.ndarray&gt;\n",
       "    vomecrty  (t, z_c, y_r, x_c) float32 dask.array&lt;chunksize=(3, 23, 511, 360), meta=np.ndarray&gt;\n",
       "    sozotaux  (t, y_c, x_r) float32 dask.array&lt;chunksize=(3, 511, 360), meta=np.ndarray&gt;\n",
       "    vozocrtx  (t, z_c, y_c, x_r) float32 dask.array&lt;chunksize=(3, 23, 511, 360), meta=np.ndarray&gt;</pre>"
      ],
      "text/plain": [
       "<xarray.Dataset>\n",
       "Dimensions:   (t: 12, x_c: 1440, x_r: 1440, y_c: 1019, y_r: 1019, z_c: 46, z_l: 46)\n",
       "Coordinates:\n",
       "  * z_c       (z_c) int64 1 2 3 4 5 6 7 8 9 10 ... 37 38 39 40 41 42 43 44 45 46\n",
       "  * z_l       (z_l) float64 0.5 1.5 2.5 3.5 4.5 5.5 ... 41.5 42.5 43.5 44.5 45.5\n",
       "  * y_c       (y_c) int64 1 2 3 4 5 6 7 8 ... 1013 1014 1015 1016 1017 1018 1019\n",
       "  * y_r       (y_r) float64 1.5 2.5 3.5 4.5 ... 1.018e+03 1.018e+03 1.02e+03\n",
       "  * x_c       (x_c) int64 1 2 3 4 5 6 7 8 ... 1434 1435 1436 1437 1438 1439 1440\n",
       "  * x_r       (x_r) float64 1.5 2.5 3.5 4.5 ... 1.438e+03 1.44e+03 1.44e+03\n",
       "    depth_c   (z_c) float64 dask.array<chunksize=(23,), meta=np.ndarray>\n",
       "    depth_l   (z_l) float64 dask.array<chunksize=(23,), meta=np.ndarray>\n",
       "    llat_cc   (y_c, x_c) float32 dask.array<chunksize=(511, 360), meta=np.ndarray>\n",
       "    llat_cr   (y_c, x_r) float32 dask.array<chunksize=(511, 360), meta=np.ndarray>\n",
       "    llat_rc   (y_r, x_c) float32 dask.array<chunksize=(511, 360), meta=np.ndarray>\n",
       "    llat_rr   (y_r, x_r) float32 dask.array<chunksize=(511, 360), meta=np.ndarray>\n",
       "    llon_cc   (y_c, x_c) float32 dask.array<chunksize=(511, 360), meta=np.ndarray>\n",
       "    llon_cr   (y_c, x_r) float32 dask.array<chunksize=(511, 360), meta=np.ndarray>\n",
       "    llon_rc   (y_r, x_c) float32 dask.array<chunksize=(511, 360), meta=np.ndarray>\n",
       "    llon_rr   (y_r, x_r) float32 dask.array<chunksize=(511, 360), meta=np.ndarray>\n",
       "  * t         (t) datetime64[ns] 2010-01-16T12:00:00 ... 2010-12-16T12:00:00\n",
       "    e1t       (y_c, x_c) float64 dask.array<chunksize=(511, 360), meta=np.ndarray>\n",
       "    e2t       (y_c, x_c) float64 dask.array<chunksize=(511, 360), meta=np.ndarray>\n",
       "    e3t       (z_c, y_c, x_c) float64 dask.array<chunksize=(23, 511, 360), meta=np.ndarray>\n",
       "    e1u       (y_c, x_r) float64 dask.array<chunksize=(511, 360), meta=np.ndarray>\n",
       "    e2u       (y_c, x_r) float64 dask.array<chunksize=(511, 360), meta=np.ndarray>\n",
       "    e3u       (z_c, y_c, x_r) float64 dask.array<chunksize=(23, 511, 360), meta=np.ndarray>\n",
       "    e1v       (y_r, x_c) float64 dask.array<chunksize=(511, 360), meta=np.ndarray>\n",
       "    e2v       (y_r, x_c) float64 dask.array<chunksize=(511, 360), meta=np.ndarray>\n",
       "    e3v       (z_c, y_r, x_c) float64 dask.array<chunksize=(23, 511, 360), meta=np.ndarray>\n",
       "    e1f       (y_r, x_r) float64 dask.array<chunksize=(511, 360), meta=np.ndarray>\n",
       "    e2f       (y_r, x_r) float64 dask.array<chunksize=(511, 360), meta=np.ndarray>\n",
       "    e3w       (z_l, y_c, x_c) float64 dask.array<chunksize=(23, 511, 360), meta=np.ndarray>\n",
       "    tmask     (z_c, y_c, x_c) int8 dask.array<chunksize=(23, 511, 360), meta=np.ndarray>\n",
       "    umask     (z_c, y_c, x_r) int8 dask.array<chunksize=(23, 511, 360), meta=np.ndarray>\n",
       "    vmask     (z_c, y_r, x_c) int8 dask.array<chunksize=(23, 511, 360), meta=np.ndarray>\n",
       "    fmask     (z_c, y_r, x_r) int8 dask.array<chunksize=(23, 511, 360), meta=np.ndarray>\n",
       "Data variables:\n",
       "    sobowlin  (t, y_c, x_c) float32 dask.array<chunksize=(3, 511, 360), meta=np.ndarray>\n",
       "    sohefldo  (t, y_c, x_c) float32 dask.array<chunksize=(3, 511, 360), meta=np.ndarray>\n",
       "    sohefldp  (t, y_c, x_c) float32 dask.array<chunksize=(3, 511, 360), meta=np.ndarray>\n",
       "    somixhgt  (t, y_c, x_c) float32 dask.array<chunksize=(3, 511, 360), meta=np.ndarray>\n",
       "    somxl010  (t, y_c, x_c) float32 dask.array<chunksize=(3, 511, 360), meta=np.ndarray>\n",
       "    sosaline  (t, y_c, x_c) float32 dask.array<chunksize=(3, 511, 360), meta=np.ndarray>\n",
       "    soshfldo  (t, y_c, x_c) float32 dask.array<chunksize=(3, 511, 360), meta=np.ndarray>\n",
       "    sossheig  (t, y_c, x_c) float32 dask.array<chunksize=(3, 511, 360), meta=np.ndarray>\n",
       "    sosstsst  (t, y_c, x_c) float32 dask.array<chunksize=(3, 511, 360), meta=np.ndarray>\n",
       "    sowafldp  (t, y_c, x_c) float32 dask.array<chunksize=(3, 511, 360), meta=np.ndarray>\n",
       "    sowaflup  (t, y_c, x_c) float32 dask.array<chunksize=(3, 511, 360), meta=np.ndarray>\n",
       "    sowindsp  (t, y_c, x_c) float32 dask.array<chunksize=(3, 511, 360), meta=np.ndarray>\n",
       "    vosaline  (t, z_c, y_c, x_c) float32 dask.array<chunksize=(3, 23, 511, 360), meta=np.ndarray>\n",
       "    votemper  (t, z_c, y_c, x_c) float32 dask.array<chunksize=(3, 23, 511, 360), meta=np.ndarray>\n",
       "    sometauy  (t, y_r, x_c) float32 dask.array<chunksize=(3, 511, 360), meta=np.ndarray>\n",
       "    vomecrty  (t, z_c, y_r, x_c) float32 dask.array<chunksize=(3, 23, 511, 360), meta=np.ndarray>\n",
       "    sozotaux  (t, y_c, x_r) float32 dask.array<chunksize=(3, 511, 360), meta=np.ndarray>\n",
       "    vozocrtx  (t, z_c, y_c, x_r) float32 dask.array<chunksize=(3, 23, 511, 360), meta=np.ndarray>"
      ]
     },
     "metadata": {},
     "output_type": "display_data"
    },
    {
     "name": "stdout",
     "output_type": "stream",
     "text": [
      "16.516645072 GB\n"
     ]
    }
   ],
   "source": [
    "display(ds_xorca)\n",
    "print(ds_xorca.nbytes / 1e9, \"GB\")"
   ]
  },
  {
   "cell_type": "markdown",
   "metadata": {},
   "source": [
    "## select data in the region"
   ]
  },
  {
   "cell_type": "code",
   "execution_count": null,
   "metadata": {},
   "outputs": [],
   "source": []
  }
 ],
 "metadata": {
  "kernelspec": {
   "display_name": "Python [conda env:py3_euler]",
   "language": "python",
   "name": "conda-env-py3_euler-py"
  },
  "language_info": {
   "codemirror_mode": {
    "name": "ipython",
    "version": 3
   },
   "file_extension": ".py",
   "mimetype": "text/x-python",
   "name": "python",
   "nbconvert_exporter": "python",
   "pygments_lexer": "ipython3",
   "version": "3.7.6"
  }
 },
 "nbformat": 4,
 "nbformat_minor": 4
}
