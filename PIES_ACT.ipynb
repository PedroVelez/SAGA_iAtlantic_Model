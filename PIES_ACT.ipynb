{
 "cells": [
  {
   "cell_type": "markdown",
   "metadata": {},
   "source": [
    "# Plot velocity field and model topography"
   ]
  },
  {
   "cell_type": "markdown",
   "metadata": {},
   "source": [
    "## Tech preamble"
   ]
  },
  {
   "cell_type": "code",
   "execution_count": 3,
   "metadata": {},
   "outputs": [],
   "source": [
    "%matplotlib inline\n",
    "import cmocean as co     # for details on this colormap module see https://matplotlib.org/cmocean/\n",
    "import numpy as np\n",
    "from pathlib import Path\n",
    "from matplotlib import pyplot as plt\n",
    "import seawater\n",
    "import xarray as xr"
   ]
  },
  {
   "cell_type": "markdown",
   "metadata": {},
   "source": [
    "## Start Dask client\n",
    "\n",
    "We want to be able to control the resources used for parallel computations."
   ]
  },
  {
   "cell_type": "code",
   "execution_count": 4,
   "metadata": {},
   "outputs": [],
   "source": [
    "from dask.distributed import Client"
   ]
  },
  {
   "cell_type": "code",
   "execution_count": 5,
   "metadata": {},
   "outputs": [
    {
     "name": "stderr",
     "output_type": "stream",
     "text": [
      "/opt/tljh/user/envs/py3_euler/lib/python3.7/site-packages/distributed/dashboard/core.py:72: UserWarning: \n",
      "Port 8787 is already in use. \n",
      "Perhaps you already have a cluster running?\n",
      "Hosting the diagnostics dashboard on a random port instead.\n",
      "  warnings.warn(\"\\n\" + msg)\n"
     ]
    },
    {
     "data": {
      "text/html": [
       "<table style=\"border: 2px solid white;\">\n",
       "<tr>\n",
       "<td style=\"vertical-align: top; border: 0px solid white\">\n",
       "<h3 style=\"text-align: left;\">Client</h3>\n",
       "<ul style=\"text-align: left; list-style: none; margin: 0; padding: 0;\">\n",
       "  <li><b>Scheduler: </b>tcp://127.0.0.1:40361</li>\n",
       "  <li><b>Dashboard: </b><a href='/user/workshop019/proxy/39299/status' target='_blank'>/user/workshop019/proxy/39299/status</a>\n",
       "</ul>\n",
       "</td>\n",
       "<td style=\"vertical-align: top; border: 0px solid white\">\n",
       "<h3 style=\"text-align: left;\">Cluster</h3>\n",
       "<ul style=\"text-align: left; list-style:none; margin: 0; padding: 0;\">\n",
       "  <li><b>Workers: </b>1</li>\n",
       "  <li><b>Cores: </b>8</li>\n",
       "  <li><b>Memory: </b>8.00 GB</li>\n",
       "</ul>\n",
       "</td>\n",
       "</tr>\n",
       "</table>"
      ],
      "text/plain": [
       "<Client: 'tcp://127.0.0.1:40361' processes=1 threads=8, memory=8.00 GB>"
      ]
     },
     "execution_count": 5,
     "metadata": {},
     "output_type": "execute_result"
    }
   ],
   "source": [
    "client = Client(n_workers=1, threads_per_worker=8, memory_limit=8e9)\n",
    "client"
   ]
  },
  {
   "cell_type": "markdown",
   "metadata": {},
   "source": [
    "## Parameters"
   ]
  },
  {
   "cell_type": "code",
   "execution_count": 6,
   "metadata": {},
   "outputs": [],
   "source": [
    "# paramters\n",
    "global_data_path = Path(\"/data/iAtlantic/\")\n",
    "experiment_id = \"VIKING20X.L46-KKG36107B\"\n",
    "nest_prefix = \"1_\"  # leave empty if global data will be used\n",
    "\n",
    "# chunk sizes\n",
    "chu_x = 1250\n",
    "chu_y = 1250\n",
    "chu_z = 1\n",
    "chu_t = 1\n",
    "\n",
    "# region\n",
    "z = 500\n",
    "j_bnds = slice(1500, 2000)\n",
    "i_bnds = slice(500, 1250)\n",
    "\n",
    "#Saga Array\n",
    "lon_sa=-9\n",
    "lat_sa_min=-32\n",
    "lat_sa_max=-20"
   ]
  },
  {
   "cell_type": "markdown",
   "metadata": {},
   "source": [
    "---"
   ]
  },
  {
   "cell_type": "markdown",
   "metadata": {},
   "source": [
    "## Find data files"
   ]
  },
  {
   "cell_type": "code",
   "execution_count": 7,
   "metadata": {},
   "outputs": [
    {
     "name": "stdout",
     "output_type": "stream",
     "text": [
      "Found 1 mesh/mask files, 1 U files, and 1 V files.\n"
     ]
    }
   ],
   "source": [
    "MESH_MASK_files = list(sorted(\n",
    "    (global_data_path / \"mask\" / experiment_id).glob(\n",
    "        f\"{nest_prefix}mesh_mask.nc\"\n",
    "    )\n",
    "))\n",
    "\n",
    "U_files = list(sorted(\n",
    "    (global_data_path / \"data\" / experiment_id).glob(\n",
    "        f\"{nest_prefix}{experiment_id}_1m_2010*_*_grid_U.nc\"\n",
    "    )\n",
    "))\n",
    "\n",
    "V_files = list(sorted(\n",
    "    (global_data_path / \"data\" / experiment_id).glob(\n",
    "        f\"{nest_prefix}{experiment_id}_1m_2010*_*_grid_V.nc\"\n",
    "    )\n",
    "))\n",
    "\n",
    "print(f\"Found {len(MESH_MASK_files)} mesh/mask files, {len(U_files)} U files, and {len(V_files)} V files.\")"
   ]
  },
  {
   "cell_type": "markdown",
   "metadata": {},
   "source": [
    "## Load auxiliary data\n",
    "\n",
    "We load info about the model grid and about coordinates."
   ]
  },
  {
   "cell_type": "code",
   "execution_count": 8,
   "metadata": {},
   "outputs": [],
   "source": [
    "ds_mesh_mask = xr.open_mfdataset(\n",
    "    MESH_MASK_files,\n",
    "    chunks={\n",
    "        \"z\": chu_z,\n",
    "        \"y\": chu_y,\n",
    "        \"x\": chu_x\n",
    "    },\n",
    "    combine='by_coords')\n",
    "ds_mesh_mask = ds_mesh_mask.squeeze()  # remove degenerate time dim\n",
    "#ds_mesh_mask = ds_mesh_mask.set_coords([\"nav_lat\", \"nav_lon\"])\n",
    "\n",
    "#display(ds_mesh_mask)"
   ]
  },
  {
   "cell_type": "markdown",
   "metadata": {},
   "source": [
    "## Load velocity data"
   ]
  },
  {
   "cell_type": "code",
   "execution_count": 9,
   "metadata": {},
   "outputs": [],
   "source": [
    "ds_U = xr.open_mfdataset(\n",
    "    U_files,\n",
    "    chunks={\n",
    "        \"time_counter\": chu_t,\n",
    "        \"depthu\": chu_z,\n",
    "        \"y\": chu_y,\n",
    "        \"x\": chu_x\n",
    "    },\n",
    "    combine='by_coords')\n",
    "ds_U = ds_U.rename({\"time_counter\" : \"t\", \"depthu\" : \"z\"})"
   ]
  },
  {
   "cell_type": "code",
   "execution_count": 10,
   "metadata": {},
   "outputs": [],
   "source": [
    "U = ds_U.vozocrtx\n",
    "U = U.where(ds_mesh_mask.umask != 0)\n",
    "\n",
    "#display(U)"
   ]
  },
  {
   "cell_type": "markdown",
   "metadata": {},
   "source": [
    "## Looking for the indexes\n"
   ]
  },
  {
   "cell_type": "code",
   "execution_count": 13,
   "metadata": {},
   "outputs": [
    {
     "data": {
      "text/plain": [
       "array([-32.754677, -32.33319 , -31.909727, -31.48431 , -31.05695 ,\n",
       "       -30.62766 , -30.196459, -29.763361, -29.328382, -28.891539,\n",
       "       -28.452852, -28.012337, -27.570011, -27.125896, -26.68001 ,\n",
       "       -26.232374, -25.783009, -25.331934, -24.879173, -24.424746,\n",
       "       -23.968674, -23.510984, -23.051699, -22.590841, -22.128435,\n",
       "       -21.664507, -21.199081, -20.732187], dtype=float32)"
      ]
     },
     "execution_count": 13,
     "metadata": {},
     "output_type": "execute_result"
    }
   ],
   "source": [
    "ds_U.nav_lon.isel(x=1788, y=300).values\n",
    "ds_U.nav_lat.isel(x=0, y=slice(30, 310, 10)).values"
   ]
  },
  {
   "cell_type": "code",
   "execution_count": 14,
   "metadata": {},
   "outputs": [
    {
     "data": {
      "text/plain": [
       "<matplotlib.collections.QuadMesh at 0x7f54492ccc50>"
      ]
     },
     "execution_count": 14,
     "metadata": {},
     "output_type": "execute_result"
    },
    {
     "data": {
      "image/png": "[encoded data removed]",
      "text/plain": [
       "<Figure size 432x288 with 2 Axes>"
      ]
     },
     "metadata": {
      "needs_background": "light"
     },
     "output_type": "display_data"
    }
   ],
   "source": [
    "ds_U.nav_lat.plot()"
   ]
  },
  {
   "cell_type": "code",
   "execution_count": 15,
   "metadata": {},
   "outputs": [],
   "source": [
    "pre_min = 1000;\n",
    "pre_max = 3000;\n",
    "prev = ds_U.z.values\n",
    "ipre_min = (np.abs(prev-pre_min)).argmin()\n",
    "ipre_max = (np.abs(prev-pre_max)).argmin()"
   ]
  },
  {
   "cell_type": "code",
   "execution_count": 16,
   "metadata": {},
   "outputs": [],
   "source": [
    "lonv = ds_U.nav_lon.isel(y=0).values\n",
    "ilonv = (np.abs(lonv-lon_sa)).argmin()"
   ]
  },
  {
   "cell_type": "code",
   "execution_count": 17,
   "metadata": {},
   "outputs": [],
   "source": [
    "latv = ds_U.nav_lat.isel(x=0).values\n",
    "ilatv_min = (np.abs(latv-lat_sa_min)).argmin()\n",
    "ilatv_max = (np.abs(latv-lat_sa_max)).argmin()"
   ]
  },
  {
   "cell_type": "code",
   "execution_count": 18,
   "metadata": {},
   "outputs": [],
   "source": [
    "U_saga=U.isel(x=ilonv,y=slice(ilatv_min,ilatv_max),z=slice(ipre_min,ipre_max))\n",
    "e3u_saga=ds_mesh_mask.e3u_0.isel(x=ilonv,y=slice(ilatv_min,ilatv_max),z=slice(ipre_min,ipre_max))\n",
    "e2u_saga=ds_mesh_mask.e2u.isel(x=ilonv,y=slice(ilatv_min,ilatv_max))"
   ]
  },
  {
   "cell_type": "code",
   "execution_count": 19,
   "metadata": {},
   "outputs": [
    {
     "data": {
      "image/png": "[encoded data removed]",
      "text/plain": [
       "<Figure size 432x288 with 2 Axes>"
      ]
     },
     "metadata": {
      "needs_background": "light"
     },
     "output_type": "display_data"
    }
   ],
   "source": [
    "U_saga.isel(t=0).plot(x=\"nav_lat\",y=\"z\",yincrease=False);"
   ]
  },
  {
   "cell_type": "code",
   "execution_count": 20,
   "metadata": {},
   "outputs": [],
   "source": [
    "accU = (U_saga * e3u_saga* e2u_saga).sum(\"z\").cumsum(\"y\")/ 1.0e6"
   ]
  },
  {
   "cell_type": "code",
   "execution_count": 21,
   "metadata": {},
   "outputs": [],
   "source": [
    "accU = accU.rename('AccumulatedTransportU')"
   ]
  },
  {
   "cell_type": "code",
   "execution_count": 22,
   "metadata": {},
   "outputs": [],
   "source": [
    "accUme = accU.mean(dim=\"t\")\n",
    "accUst = accU.std(dim=\"t\")\n",
    "# accUst.values"
   ]
  },
  {
   "cell_type": "code",
   "execution_count": 23,
   "metadata": {},
   "outputs": [],
   "source": [
    "accUme = accUme.compute()"
   ]
  },
  {
   "cell_type": "code",
   "execution_count": 24,
   "metadata": {},
   "outputs": [],
   "source": [
    "accUst = accUst.compute()"
   ]
  },
  {
   "cell_type": "code",
   "execution_count": 29,
   "metadata": {},
   "outputs": [
    {
     "data": {
      "text/html": [
       "<pre>&lt;xarray.DataArray &#x27;AccumulatedTransportU&#x27; (t: 12, y: 268)&gt;\n",
       "dask.array&lt;truediv, shape=(12, 268), dtype=float64, chunksize=(1, 268), chunktype=numpy.ndarray&gt;\n",
       "Coordinates:\n",
       "    nav_lat        (y) float32 dask.array&lt;chunksize=(268,), meta=np.ndarray&gt;\n",
       "    nav_lon        (y) float32 dask.array&lt;chunksize=(268,), meta=np.ndarray&gt;\n",
       "    time_centered  (t) datetime64[ns] dask.array&lt;chunksize=(1,), meta=np.ndarray&gt;\n",
       "  * t              (t) datetime64[ns] 2010-01-16T12:00:00 ... 2010-12-16T12:00:00\n",
       "Dimensions without coordinates: y</pre>"
      ],
      "text/plain": [
       "<xarray.DataArray 'AccumulatedTransportU' (t: 12, y: 268)>\n",
       "dask.array<truediv, shape=(12, 268), dtype=float64, chunksize=(1, 268), chunktype=numpy.ndarray>\n",
       "Coordinates:\n",
       "    nav_lat        (y) float32 dask.array<chunksize=(268,), meta=np.ndarray>\n",
       "    nav_lon        (y) float32 dask.array<chunksize=(268,), meta=np.ndarray>\n",
       "    time_centered  (t) datetime64[ns] dask.array<chunksize=(1,), meta=np.ndarray>\n",
       "  * t              (t) datetime64[ns] 2010-01-16T12:00:00 ... 2010-12-16T12:00:00\n",
       "Dimensions without coordinates: y"
      ]
     },
     "execution_count": 29,
     "metadata": {},
     "output_type": "execute_result"
    },
    {
     "data": {
      "image/png": "[encoded data removed]",
      "text/plain": [
       "<Figure size 720x432 with 1 Axes>"
      ]
     },
     "metadata": {
      "needs_background": "light"
     },
     "output_type": "display_data"
    }
   ],
   "source": [
    "fig, ax = plt.subplots(figsize=(10,6))\n",
    "ax.errorbar(x=accUme.nav_lat,y=accUme,yerr=accUst)\n",
    "#ax.plot(accUme.nav_lat,accUme)\n",
    "accU"
   ]
  },
  {
   "cell_type": "code",
   "execution_count": null,
   "metadata": {},
   "outputs": [],
   "source": []
  }
 ],
 "metadata": {
  "kernelspec": {
   "display_name": "Python 3",
   "language": "python",
   "name": "python3"
  },
  "language_info": {
   "codemirror_mode": {
    "name": "ipython",
    "version": 3
   },
   "file_extension": ".py",
   "mimetype": "text/x-python",
   "name": "python",
   "nbconvert_exporter": "python",
   "pygments_lexer": "ipython3",
   "version": "3.7.7"
  }
 },
 "nbformat": 4,
 "nbformat_minor": 4
}
